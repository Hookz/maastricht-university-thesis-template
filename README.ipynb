{
 "cells": [
  {
   "cell_type": "markdown",
   "metadata": {},
   "source": [
    "# Maastricht University Master Thesis Template"
   ]
  },
  {
   "cell_type": "markdown",
   "metadata": {},
   "source": [
    "This thesis template is made to help future students at Maastricht University build their master thesis. Please note that other departments beside DKE might have other writing guidelines. However, I ([JoeriHermans](https://github.com/JoeriHermans)) would recommend to use the structure I present here since it will make your life a bit easier."
   ]
  },
  {
   "cell_type": "markdown",
   "metadata": {},
   "source": [
    "## How to use this Template"
   ]
  },
  {
   "cell_type": "markdown",
   "metadata": {},
   "source": [
    "The $\\LaTeX$ code is subdivided into 4 main catalogues: \n",
    "* **head**, containing the Abstract (*abstract.tex*), Acknowledgements (*acknowledgements.tex*), Cover Page (*coverpage.tex*), Dedication (*dedication.tex*), and Summary (*summary.tex*)\n",
    "* **body**, containing the Introduction (*introduction.tex*) and sample Chapter (*chapter_1.tex*)\n",
    "* **bibliography**, containing the Bibliography (*bibliography_thesis.bib*)\n",
    "* **utils**, containing the Macros (*macros.tex*)\n",
    "\n",
    "Additionally, two logos (*logo_cern.svg* and *logo_university.svg*) are stored in the **resources/images** folder."
   ]
  },
  {
   "cell_type": "markdown",
   "metadata": {},
   "source": [
    "The file *thesis.tex* in the main folder should only be used to add metadata (title, author, date) and include chapters using *\\input{body/chapter_X}*, where X is the number of the chapter. No content should be added to this file directly, to avoid cluttering the file"
   ]
  },
  {
   "cell_type": "markdown",
   "metadata": {},
   "source": [
    "### How to use chapters"
   ]
  },
  {
   "cell_type": "markdown",
   "metadata": {},
   "source": [
    "In the **[body](https://github.com/msvincognito/maastricht-university-thesis-template/tree/master/body)** directory, there is a sample Introduction and Chapter 1. All chapters should be built according to the file *chapter_1.tex* and included later in *thesis.tex*."
   ]
  },
  {
   "cell_type": "markdown",
   "metadata": {},
   "source": [
    "Each chapter is stored as a separate file and we strongly recommend that any further development of the thesis for personal purposes follows this structure."
   ]
  },
  {
   "cell_type": "markdown",
   "metadata": {},
   "source": [
    "### How to make bibliography entries and cite them"
   ]
  },
  {
   "cell_type": "markdown",
   "metadata": {},
   "source": [
    "All bibliography should be stored in the **[bibliography/bibliography_thesis.bib](https://github.com/msvincognito/maastricht-university-thesis-template/tree/master/bibliography/bibliography_thesis.bib)** file (that already contains some sample bibliography entries). \n",
    "\n",
    "Guidlines for using the file (adding references in text) are available on the [Bibliography management with Bibtex website](https://www.overleaf.com/learn/latex/Bibliography_management_with_bibtex#Bibliography_management_with_Bibtex). A cheatsheet with types of entries available in Bibtex is available on [this website](http://bib-it.sourceforge.net/help/fieldsAndEntryTypes.php). "
   ]
  },
  {
   "cell_type": "code",
   "execution_count": null,
   "metadata": {},
   "outputs": [],
   "source": []
  }
 ],
 "metadata": {
  "kernelspec": {
   "display_name": "Python 3",
   "language": "python",
   "name": "python3"
  },
  "language_info": {
   "codemirror_mode": {
    "name": "ipython",
    "version": 3
   },
   "file_extension": ".py",
   "mimetype": "text/x-python",
   "name": "python",
   "nbconvert_exporter": "python",
   "pygments_lexer": "ipython3",
   "version": "3.7.4"
  }
 },
 "nbformat": 4,
 "nbformat_minor": 2
}
